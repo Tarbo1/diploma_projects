{
 "cells": [
  {
   "cell_type": "code",
   "execution_count": 1,
   "metadata": {},
   "outputs": [],
   "source": [
    "import requests\n",
    "from bs4 import BeautifulSoup\n",
    "import json\n",
    "from selenium import webdriver\n",
    "from selenium.webdriver.firefox.options import Options\n",
    "from selenium.webdriver.common.by import By\n",
    "from selenium.webdriver.firefox.service import Service\n",
    "import time"
   ]
  },
  {
   "cell_type": "code",
   "execution_count": 4,
   "metadata": {},
   "outputs": [
    {
     "name": "stdout",
     "output_type": "stream",
     "text": [
      "[<selenium.webdriver.remote.webelement.WebElement (session=\"5e93edcf-c31b-427a-a40e-89ed4f414edf\", element=\"70c72979-1479-47f3-af6b-22efe78b3f11\")>, <selenium.webdriver.remote.webelement.WebElement (session=\"5e93edcf-c31b-427a-a40e-89ed4f414edf\", element=\"ae032da1-8fe2-430b-9856-53ff90e685e2\")>, <selenium.webdriver.remote.webelement.WebElement (session=\"5e93edcf-c31b-427a-a40e-89ed4f414edf\", element=\"2c09e820-3259-4c01-8c92-2866760b0386\")>, <selenium.webdriver.remote.webelement.WebElement (session=\"5e93edcf-c31b-427a-a40e-89ed4f414edf\", element=\"38685885-1b3c-4ca1-afbc-beb84f509b00\")>, <selenium.webdriver.remote.webelement.WebElement (session=\"5e93edcf-c31b-427a-a40e-89ed4f414edf\", element=\"a37acee3-6d07-48ab-9bdf-8fc7f2832220\")>, <selenium.webdriver.remote.webelement.WebElement (session=\"5e93edcf-c31b-427a-a40e-89ed4f414edf\", element=\"4c57ea25-4a1f-4153-8d1a-263438ceefa1\")>, <selenium.webdriver.remote.webelement.WebElement (session=\"5e93edcf-c31b-427a-a40e-89ed4f414edf\", element=\"afbd59a1-5fc4-45b9-88bf-3bd1e357102e\")>, <selenium.webdriver.remote.webelement.WebElement (session=\"5e93edcf-c31b-427a-a40e-89ed4f414edf\", element=\"88742d61-e97b-4062-a7e8-3e85713691b5\")>, <selenium.webdriver.remote.webelement.WebElement (session=\"5e93edcf-c31b-427a-a40e-89ed4f414edf\", element=\"10a6628d-5232-4f56-ba68-d6fb72694a8d\")>, <selenium.webdriver.remote.webelement.WebElement (session=\"5e93edcf-c31b-427a-a40e-89ed4f414edf\", element=\"70eb194b-936c-43fa-9bbf-bd341ff663d5\")>, <selenium.webdriver.remote.webelement.WebElement (session=\"5e93edcf-c31b-427a-a40e-89ed4f414edf\", element=\"020c4451-1922-43a4-a323-58c334909fae\")>, <selenium.webdriver.remote.webelement.WebElement (session=\"5e93edcf-c31b-427a-a40e-89ed4f414edf\", element=\"7196b98d-75af-4d23-9405-7213a06ce38b\")>]\n",
      "{'35mm films': 'https://www.fotoimpex.com/films/35mm-films/', 'Cine films Super 8 to 35mm': 'https://www.fotoimpex.com/films/cine-films-super-8-to-35mm/', 'Digital to analog transfer media': 'https://www.fotoimpex.com/films/digital-to-analog-transfer-media/', 'Experimental Films': 'https://www.fotoimpex.com/films/experimental-films/', 'Film accessories': 'https://www.fotoimpex.com/films/film-accessories/', 'Infraredfilms': 'https://www.fotoimpex.com/films/infraredfilms/', 'Instant films': 'https://www.fotoimpex.com/films/instant-films/', 'Medium format films 120': 'https://www.fotoimpex.com/films/medium-format-films-120/', 'Medium format films 127 (4x4)': 'https://www.fotoimpex.com/films/medium-format-films-127-4x4/', 'Minox films 8x11': 'https://www.fotoimpex.com/films/minox-films-8x11/', 'Pocket films 110': 'https://www.fotoimpex.com/films/pocket-films-110/', 'Sheet films': 'https://www.fotoimpex.com/films/sheet-films/'}\n"
     ]
    }
   ],
   "source": [
    "options=Options()\n",
    "s=Service(\"./driver/geckodriver.exe\")\n",
    "options.binary_location=r'C:/Program Files/Mozilla Firefox/firefox.exe'\n",
    "driver=webdriver.Firefox(service=s, options=options)\n",
    "category_name_href_dict={}\n",
    "try:\n",
    "    driver.get(\"https://www.fotoimpex.com/films/\")\n",
    "    categories=driver.find_elements(By.XPATH,\"//ul[@id='os_prod_content_navi']/li/a\")\n",
    "    for category in categories:\n",
    "        category_name=category.text\n",
    "        category_href=category.get_attribute(\"href\")\n",
    "        category_name_href_dict[category_name]=category_href\n",
    "    print(category_name_href_dict)\n",
    "    with open(\"photo_impex_categories_href.json\",'w',encoding='utf-8') as file:\n",
    "        json.dump(category_name_href_dict,file,indent=2,ensure_ascii=False)\n",
    "except Exception as ex:\n",
    "    print(ex)\n",
    "finally:\n",
    "    driver.close()\n",
    "    driver.quit()"
   ]
  },
  {
   "cell_type": "code",
   "execution_count": 7,
   "metadata": {},
   "outputs": [
    {
     "name": "stdout",
     "output_type": "stream",
     "text": [
      "Які наслідки підриву Каховської ГЕС для економіки? Говоримо про сільське господарство\n",
      "Гаага готує новини. Чому ордер МКС для Путіна може призвести навіть до справи щодо геноциду\n",
      "Улюблений бренд фінансує російський тероризм? ChatGPT пропонує альтернативи\n",
      "Венеційська комісія перейшла на російську. Як інституція Ради Європи підриває рух України до ЄС\n",
      "Якою буде вступна кампанія-2023: умови, дати, документи\n",
      "Як теплові насоси допоможуть відмовитися від газу і заощаджувати до 80% енергії на опаленні\n",
      "НАТО готує гроші та снаряди: на чому зосередився Альянс під час контрнаступу України\n",
      "Ілона Волошина: \"Ставлення до ветеранів змінилося – від співчуття до поваги і пошуку можливостей\"\n",
      "\"Не тих ми братами називали\": режисер \"Довбуша\" Санін розкриває деталі фільму, який вже розтягли на цитати\n",
      "Операція Doppelgänger: як Росія підробляла новини провідних європейських ЗМІ\n",
      "\"Молимося Богу про дощ\". Що відбувається з містами та заводами Дніпровщини, які залишились без води\n",
      "Перемога з невідомими: чому проросійські сили Чорногорії зберегли шанси на реванш\n",
      "Дружина сказала: \"Відрощуй ноги\". Як почувається перший в Україні пацієнт з протезами, вживленими в кістку\n",
      "Лувр показує стародавні ікони з Музею Ханенків: як французи відкривають для себе історію Візантії\n",
      "Як наш мозок породжує сни та навіщо він це робить?\n",
      "Хто може не платити за комунальні послуги під час війни\n",
      "Реальність розпаду Росії, шлях до НАТО, покарання Угорщини. Інтерв'ю нового президента Латвії\n",
      "Кількість гостей у п'ятизіркових готелях зростає попри війну. Чому?\n",
      "Підліток відвертав увагу охоронця, щоб чоловік прослизнув повз. Історія втечі з російського заслання\n",
      "Міноборони нагадує зашторену з усіх боків кімнату, в якій сидить сивий волохатий звір – голова антикорради МОУ\n",
      "Дональд Трамп та кімнати з таємницями: чому експрезиденту США загрожує 400 років в'язниці\n",
      "Закордонна та українська журналістика часів війни\n",
      "Кримська перемога: що означає для України кінцеве рішення суду щодо \"скіфського золота\"\n",
      "Загибель, полон чи розлучення. Як допомогти дитині, коли одного з батьків немає поруч? Пояснюють психологи\n",
      "Обмінники і банки не приймають пошкоджені і старі банкноти. Чому це тепер стало проблемою?\n",
      "\"Напиши таке подання на Героя, щоб плакали\". Чому військові іноді можуть не дочекатися нагороди\n",
      "Синьо-жовта параноя. Як путінська Росія пише доноси і лякає себе Бандерою, бойовою сараною й отруєними грошима\n",
      "11 заручників Орбана: як РПЦ та російська влада \"торгують\" українцями з урядом Угорщини\n",
      "Речник Повітряних сил Ігнат: Якби ми програли небо, то мали б уже Маріуполь чи Бахмут по всій країні\n",
      "Чому про вибори президента США ніколи не рано говорити\n",
      "\"Ми в ЗСУ вірили більше, ніж в Бога\": Ukraïner видав збірку репортажів з деокупованих територій\n",
      "\"СМА – як колишня дівчина, краще вже не буде\": історія Назарія Гусакова, який важко збирає кошти на лікування\n"
     ]
    }
   ],
   "source": [
    "options=Options()\n",
    "s=Service(\"./driver/geckodriver.exe\")\n",
    "options.binary_location=r'C:/Program Files/Mozilla Firefox/firefox.exe'\n",
    "driver=webdriver.Firefox(service=s, options=options)\n",
    "try:\n",
    "    driver.get(\"https://www.pravda.com.ua/articles/\")\n",
    "    #elements=driver.find_elements(By.XPATH,\"//div[@class='article article_list']/div/div[@class='article_content']/div[@class='article_header']\")\n",
    "    elements=driver.find_elements(By.CSS_SELECTOR,'div.article_list')\n",
    "    for elem in elements:\n",
    "        print(elem.find_element(By.CSS_SELECTOR,'div.article_header a').text)\n",
    "    \n",
    "except Exception as ex:\n",
    "    print(ex)\n",
    "finally:\n",
    "    driver.close()\n",
    "    driver.quit()"
   ]
  },
  {
   "cell_type": "code",
   "execution_count": 5,
   "metadata": {},
   "outputs": [],
   "source": [
    "def get_data_from_product_page(product_page_href,category):\n",
    "    driver.get(product_page_href)\n",
    "    item_name=driver.find_element(By.XPATH,\"//div[@class='col-xs-12 col-sm-6 col-md-5 col-lg-5 os_detail_boxscart']/h1\").text\n",
    "    item_id=driver.find_element(By.XPATH,\"//div[@class='os_detail_vars']/table/tbody/tr/td[2]\").text\n",
    "    item_category=category\n",
    "    item_price_per_one=driver.find_element(By.XPATH,\"//div[@class='os_detail_sprice']/table/tbody/tr/td[2]\").text.replace(\"*\",\"\").strip()\n",
    "    item_price_per_one_taxed=driver.find_element(By.XPATH,\"//div[@class='os_detail_sprice']/table/tbody/tr/td[3]\").text.replace(\"*\",\"\").strip()\n",
    "    item_description=driver.find_element(By.XPATH,\"//div[@id='os_dettab_desc1']\").text\n",
    "    if \"EAN\" in driver.find_element(By.XPATH,\"//div[@class='os_detail_vars']/table/tbody/tr[2]/td[1]\").text:\n",
    "        item_availability_to_ship=driver.find_element(By.XPATH,\"//div[@class='os_detail_vars']/table/tbody/tr[3]/td[2]\").text\n",
    "        item_availability_in_Berlin=driver.find_element(By.XPATH,\"//div[@class='os_detail_vars']/table/tbody/tr[4]/td[2]\").text.replace(\"*\",\"\").strip()\n",
    "    else:\n",
    "        item_availability_to_ship=driver.find_element(By.XPATH,\"//div[@class='os_detail_vars']/table/tbody/tr[2]/td[2]\").text\n",
    "        item_availability_in_Berlin=driver.find_element(By.XPATH,\"//div[@class='os_detail_vars']/table/tbody/tr[3]/td[2]\").text.replace(\"*\",\"\").strip()\n",
    "    item_desc_dict={\"Назва\":item_name,\"ID товару\":item_id, \"Категорія\":item_category,\"Ціна за одиницю без ПДВ\":item_price_per_one,\n",
    "                    \"Ціна за одиницю з ПДВ\":item_price_per_one_taxed,\"Опис\":item_description,\n",
    "                    \"Наявність для доставки\":item_availability_to_ship,\"Наявність у магазині\":item_availability_in_Berlin}\n",
    "    return item_desc_dict.copy()\n",
    "options=Options()\n",
    "s=Service(\"./driver/geckodriver.exe\")\n",
    "options.binary_location=r'C:/Program Files/Mozilla Firefox/firefox.exe'\n",
    "driver=webdriver.Firefox(service=s, options=options)\n",
    "category_items_list=[]\n",
    "list_of_product_href=[]\n",
    "list_of_category_pages_href=[]\n",
    "try:\n",
    "    for category,url in category_name_href_dict.items():\n",
    "        driver.get(url)\n",
    "        number_of_pages_in_category=len(driver.find_elements(By.XPATH,\"span[@class='hidden-xs pagi']/a\"))+1\n",
    "        pagination_pages_url=driver.find_elements(By.XPATH,\"//span[@class='hidden-xs pagi']/a\")\n",
    "        for pagi_page in pagination_pages_url:\n",
    "            page_url=pagi_page.get_attribute(\"href\")\n",
    "            list_of_category_pages_href.append(page_url)\n",
    "        items=driver.find_elements(By.CLASS_NAME,\"os_list_link1\")\n",
    "        for item in items:\n",
    "            item_url=url+item.get_attribute(\"href\")\n",
    "            list_of_product_href.append(item_url)\n",
    "        for href in list_of_product_href:           \n",
    "            category_items_list.append(get_data_from_product_page(href,category) )\n",
    "        list_of_product_href=[]\n",
    "        for page_url in list_of_category_pages_href:\n",
    "            driver.get(page_url)\n",
    "            items_per_page=driver.find_elements(By.CLASS_NAME,\"os_list_link1\")\n",
    "            for item in items_per_page:\n",
    "                item_url=url+item.get_attribute(\"href\")\n",
    "                list_of_product_href.append(item_url)\n",
    "            for href in list_of_product_href:           \n",
    "                category_items_list.append(get_data_from_product_page(href,category) )\n",
    "            time.sleep(3)\n",
    "            list_of_product_href=[]\n",
    "        list_of_category_pages_href=[]\n",
    "    with open(f\"photoimpex_film_db.json\",\"w\",encoding=\"utf-8\") as file:\n",
    "        json.dump(category_items_list,file,indent=2,ensure_ascii=False)\n",
    "    category_items_list=[]\n",
    "except Exception as ex:\n",
    "    print(ex)\n",
    "finally:\n",
    "    driver.close()\n",
    "    driver.quit()"
   ]
  },
  {
   "cell_type": "code",
   "execution_count": null,
   "metadata": {},
   "outputs": [],
   "source": [
    "\n",
    "HEADERS = {'user-agent': ('Mozilla/5.0 (Macintosh; Intel Mac OS X 10_10_5)'\n",
    "                          'AppleWebKit/537.36 (KHTML, like Gecko)'\n",
    "                          'Chrome/45.0.2454.101 Safari/537.36')}\n",
    "req = requests.get('https://www.fotoimpex.com/films/', headers = HEADERS)\n",
    "src=req.text\n",
    "soup=BeautifulSoup(src,\"lxml\")"
   ]
  },
  {
   "cell_type": "code",
   "execution_count": null,
   "metadata": {},
   "outputs": [],
   "source": [
    "# спроба написати на BS4, але зі selenium, як на мене, вийшло краще\n",
    "category_name_href_dict={}\n",
    "\n",
    "categories=soup.find_all(\"li\",class_=\"col-lg-3 col-md-4 col-sm-4 col-xs-12\")\n",
    "for category in categories:\n",
    "    category_name=category.find(\"b\").text\n",
    "    category_href=\"https://www.fotoimpex.com/films/\"+category.find(\"a\")['href'].split(\"/\")[2]\n",
    "    category_name_href_dict[category_name]=category_href\n",
    "\n",
    "\n",
    "with open(\"photo_impex_categories_href.json\",'w',encoding='utf-8') as file:\n",
    "    json.dump(category_name_href_dict,file,indent=2,ensure_ascii=False)\n"
   ]
  },
  {
   "cell_type": "code",
   "execution_count": null,
   "metadata": {},
   "outputs": [],
   "source": [
    "\n",
    "for category,href in category_name_href_dict.items():\n",
    "    req = requests.get(href, headers = HEADERS)\n",
    "    src=req.text\n",
    "    soup=BeautifulSoup(src,\"lxml\")\n",
    "    films_cards_on_page=soup.find_all('div', class_=\"col-lg-3 col-md-4 col-sm-6 col-xs-12\")\n",
    "    category_item_name_price_dict={}\n",
    "    category_items_list=[]\n",
    "    for item in films_cards_on_page:\n",
    "        films_title=item.find(\"a\",class_=\"os_list_link1\").text\n",
    "        films_prices_list=item.find_all('td',class_=\"sprtab\")\n",
    "        films_price=films_prices_list[1].text\n",
    "        category_item_name_price_dict.update({\"Назва товару\":films_title,\"Ціна товару\": films_price})\n",
    "        category_items_list.append(category_item_name_price_dict.copy())\n",
    "    with open(f\"{category}_db.json\",\"w\",encoding=\"utf-8\") as file:\n",
    "        json.dump(category_items_list,file,indent=2,ensure_ascii=False)"
   ]
  }
 ],
 "metadata": {
  "kernelspec": {
   "display_name": "Python 3",
   "language": "python",
   "name": "python3"
  },
  "language_info": {
   "codemirror_mode": {
    "name": "ipython",
    "version": 3
   },
   "file_extension": ".py",
   "mimetype": "text/x-python",
   "name": "python",
   "nbconvert_exporter": "python",
   "pygments_lexer": "ipython3",
   "version": "3.10.7"
  },
  "orig_nbformat": 4,
  "vscode": {
   "interpreter": {
    "hash": "afb734500600fd355917ca529030176ea0ca205570884b88f2f6f7d791fd3fbe"
   }
  }
 },
 "nbformat": 4,
 "nbformat_minor": 2
}
